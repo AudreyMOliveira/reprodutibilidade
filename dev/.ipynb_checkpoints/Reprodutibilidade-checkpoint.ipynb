{
 "cells": [
  {
   "cell_type": "markdown",
   "metadata": {
    "collapsed": true
   },
   "source": [
    "# Analysis of the validation error of artificial neural networks applied to cardiac diseases.\n",
    "\n"
   ]
  },
  {
   "cell_type": "markdown",
   "metadata": {
    "collapsed": true
   },
   "source": [
    "## 1.0 Abstract:\n",
    "\n",
    " The aim of this paper is to analyze the development of artificial neural networks, specifically the Perceptron, on the diagnosis of heart disease in patients. Through the implementation of the algorithm Perceptron, it will be analyzed the validation error per graphic generated. Also, it will analyze the influence of the learning rate and the number of seasons referring to classes with nonlinearity separable or with overlapping.\n",
    " \n",
    "<b>Index Terms—</b> artificial neural networks,  heart disease, Perceptron\n"
   ]
  },
  {
   "cell_type": "markdown",
   "metadata": {},
   "source": [
    "## 2.0 INTRODUCTION:\n",
    "\n",
    "\n",
    "The cardiovascular diseases are a group of diseases that attack the heart and the blood vessels. Amongst them, it can be mentioned the myocardial infarction, cardiac arrhythmia, and cerebrovascular accidents (CVA).[1]\n",
    "In 2014, World Health Organization - WHO - considered heart diseases the main cause of death in the world. In Brazil 300 thousand people die every year as a result of these diseases, according to the cardiologist Leonardo Spencer, from the Hospital Heart of Brazil, in Brasília.  Besides the genetic factors, the cause of cardiovascular diseases are linked to bad habit of the population, as sedentary lifestyle, overweight, smoking. [1]\n",
    "These conditions, considered risk factors, increase substantially the chances of occurrence of cardiac problem.\n",
    "Due to the severity of this diseases, prevention remains a highly viable alternative. Therefore, early diagnosis can be determinant in the treatment and cure of the patient. One of the alternatives is the use of technology as an ally in the early diagnosis of these diseases.\n",
    "\n"
   ]
  },
  {
   "cell_type": "markdown",
   "metadata": {},
   "source": [
    "### 2.1Artificial Neural Networks\n",
    "\n",
    "<b>A- Perceptron</b>\n",
    "\n",
    "An artificial neural network is a computational tool, inspired by the capability of the human brain to perform signal, images and other processing. Its precision and versatility allows many applications in medicine, biology, engineering, mathematics and others.\n",
    "The Perceptron is a type of artificial neural network inspired by the neuron. In general, it is an algorithm capable of learning and classifying by acting as a binary classifier. Figure 1 identifies three basic layers in this model[2]:\n",
    "Input Layer: It has a set of synapses, each characterized by a weight. For each entry  in the neuron  there is a synaptic weight to multiply.\n",
    "Intermediate Layer: It has a linear combiner or adder responsible for the sum of the weighted input signals.\n",
    "Output Layer: It has a activation function  responsible for limiting the amplitude of the output of the neuron in the range [0,1].\n",
    "The Perceptron also has an externally applied boundary, with an input x_0 = +1 whose purpose is to increase or decrease the input to the activation function.\n",
    "\n",
    "<img src=\"../figures/Capturar.png\">\n",
    "\n",
    "\n",
    "Mathematically the Perceptron is represented by the following equation: \n",
    "<img src=\"../figures/CodeCogsEqn.png\">\n",
    "\n",
    "<b>B-Training</b> \n",
    " \n",
    "<p>The training is performed using supervised learning. It works through examples of inputs and outputs desired. In this case the goal is to find a common pattern that will map inputs to outputs.</p>\n",
    "<p>In this work, the training algorithm with Delta rule is used. Thus, the algorithm will start training with random weights. For each error pair, it will obtain the output and then it will compare it to the desired output.</p> \n",
    "<p>The process repeats until the error is satisfactorily small, in order to minimize the mean square error during the training.[3]</p>\n",
    "<br>\n",
    "\n",
    "<p>Mathematically the training can be represented by the following equation:</p>\n",
    "\n",
    "<img src=\"../figures/CodeCogsEqn1.png\">\n"
   ]
  },
  {
   "cell_type": "markdown",
   "metadata": {},
   "source": [
    "## 3.0 METHODS:\n"
   ]
  },
  {
   "cell_type": "markdown",
   "metadata": {
    "collapsed": true
   },
   "source": [
    "### 3.1 Data\n",
    "\n",
    "The 13 different attributes of 270 patients were obtained, such as age, sex, cholesterol and blood pressure. A total of 55.56% of these patients were considered healthy and 44.44% of them had some type of heart problem. The file was imported into an array and the patients were classified as healthy patients of patients with heart problems.\n",
    " \n",
    "\n",
    "#### 3.1.1 Attribute Information:\n",
    "- Age\n",
    "- Sex\n",
    "- Chest pain type (4 values)\n",
    "- Resting blood pressure\n",
    "- Serum cholestoral in mg/dl\n",
    "- Fasting blood sugar > 120 mg/dl\n",
    "- Resting electrocardiographic results (values 0,1,2)\n",
    "- Maximum heart rate achieved\n",
    "- Exercise induced angina\n",
    "- Oldpeak = ST depression induced by exercise relative to rest\n",
    "- The slope of the peak exercise ST segment\n",
    "- Number of major vessels (0-3) colored by flourosopy\n",
    "- Thal: 3 = normal; 6 = fixed defect; 7 = reversable defect\n",
    "\n",
    "#### 3.1.2 Attributes types\n",
    "\tReal: 1,4,5,8,10,12\n",
    "\tOrdered:11,\n",
    "\tBinary: 2,6,9\n",
    "\tNominal:7,3,13"
   ]
  },
  {
   "cell_type": "code",
   "execution_count": 9,
   "metadata": {
    "collapsed": false,
    "scrolled": false
   },
   "outputs": [
    {
     "name": "stdout",
     "output_type": "stream",
     "text": [
      "[[ 70.   1.   4. ...,   3.   3.   2.]\n",
      " [ 67.   0.   3. ...,   0.   7.   1.]\n",
      " [ 57.   1.   2. ...,   0.   7.   2.]\n",
      " ..., \n",
      " [ 56.   0.   2. ...,   0.   3.   1.]\n",
      " [ 57.   1.   4. ...,   0.   6.   1.]\n",
      " [ 67.   1.   4. ...,   3.   3.   2.]]\n"
     ]
    }
   ],
   "source": [
    "    import numpy as np\n",
    "    V_heart = np.empty([0,14])    \n",
    "\n",
    "    with open('../data/heart.txt') as arq_heart:\n",
    "        for linhas in arq_heart.readlines():       \n",
    "            V_heart = np.vstack((V_heart,linhas.rstrip().split(' ')))\n",
    "    \n",
    "    V_heart = V_heart.astype(np.float)\n",
    "    print(V_heart)"
   ]
  },
  {
   "cell_type": "markdown",
   "metadata": {},
   "source": [
    "### 3.2 Training\n",
    "\n",
    "For the training, 100 healthy patients and 100 sick patients were randomly selected. The other 70 were reserved for validation. At the first moment the weights are inserted randomly, the training is performed, an output is generated for the neuron and the weights and errors per time are stored in an array. The training is performed until the Quadratic Error is equal to 0.\n"
   ]
  },
  {
   "cell_type": "markdown",
   "metadata": {},
   "source": [
    "### 3.3 Validation\n",
    "\n",
    " After conducting the Perceptron training the validation with the matrix of remaining patients is performed. And through this training the error and its respective percentage are calculated.\n"
   ]
  },
  {
   "cell_type": "markdown",
   "metadata": {
    "collapsed": true
   },
   "source": [
    "### 3.4 Workflow\n"
   ]
  },
  {
   "cell_type": "code",
   "execution_count": 16,
   "metadata": {
    "collapsed": false
   },
   "outputs": [
    {
     "data": {
      "image/png": "[encoded data removed]",
      "text/plain": [
       "<IPython.core.display.Image object>"
      ]
     },
     "execution_count": 16,
     "metadata": {},
     "output_type": "execute_result"
    }
   ],
   "source": [
    "\n",
    "\n",
    "from IPython.display import Image\n",
    "Image(filename='../figures/workflow.png')"
   ]
  },
  {
   "cell_type": "markdown",
   "metadata": {},
   "source": [
    "### 3.5 Language and Libraries\n",
    "\n",
    "The work was developed using the Python language. In the data structure, the NumPy module was used and the output charts were generated with the Matplotlib module."
   ]
  },
  {
   "cell_type": "markdown",
   "metadata": {},
   "source": [
    "## 4.0 Results\n",
    "\n",
    "\n",
    "After the training and validation of the perceptron, two test cycles were made in order to verify the influence of the learning rate and the number of epochs in the validation of the Perceptron.\n",
    "\n",
    "\n",
    "Figures 4 to 7 show the relation Quadratic Errors x Season for the tests 1 to 4, respectively. For a number of Times ne = 1000 and learning rate tx = 0.005 the percentage of errors was 15% (Figure 4).\n",
    " <img src=\"../figures/figure_1.png\">\n",
    "<center>Fig.4. - Graph of Quadratic Errors x Season - Test 1</center>\n",
    " \n",
    "\n",
    "For a number of Times ne = 1000 and learning rate tx = 0.5 the percentage of errors was 15% (Figure 5).\n",
    " \n",
    "\n",
    " <img src=\"../figures/figure_2.png\">\n",
    "<center>Fig.5. - Graph of Quadratic Errors x Season - Test 2</center>\n",
    " \n",
    "For a number of Times ne = 5000 and learning rate tx = 0.005 the percentage of errors was 11% (Figure 6).\n",
    "\n",
    " <img src=\"../figures/figure_3.png\">\n",
    "<center>Fig.6. - Graph of Quadratic Errors x Season - Test3</center>\n",
    " \n",
    "For a number of Times ne = 50 and learning rate tx = 0.05 the percentage of errors was 12% (Figure 7).\n",
    "\n",
    " <img src=\"../figures/figure_4.png\">\n",
    "<center>Fig.7. - Graph of Quadratic Errors x Season - Test 4</center>\n"
   ]
  },
  {
   "cell_type": "markdown",
   "metadata": {},
   "source": [
    "## 5.0 Conclusion\n",
    "\n",
    "<p>The learning rate and the number of epochs must be adjusted according to the problem, since the success of training and validation depends directly on these variables. The higher the period number, the clearer the visualization of the process of error minimization.</p>\n",
    "<p>For the diagnosis of cardiac diseases based on the attributes inserted as input, the generated graphs allow to visualize that the classes will not be linearly separable, since the error is minimized but never reaches zero.</p>\n"
   ]
  },
  {
   "cell_type": "markdown",
   "metadata": {},
   "source": [
    "## 6.0 References\n",
    "\n",
    "\n",
    "\n",
    " \n",
    "[1]Coração Alerta. (2014,09). As quatro doenças cardiovasculares que mais matam.(online). \n",
    "Available:  https://coracaoalerta.com.br/fique-alerta/4-doencas-cardiovasculares-que-mais-matam-pais-2/\n",
    " \n",
    "[2]The Men Who Stare at Codes (2014,03). Neural networks in a nutshell.(online).\n",
    "Available:https://themenwhostareatcodes.wordpress.com/2014/03/02/neural-networks-in-a-nutshell/\n",
    "\n",
    "[3]Renato Dourado Maia (2015,05). Inteligência Computacional .(online).\n",
    "Available:https://renatomaia.net/arquivos/Facit/IC/6_RNA_Perceptron.pdf\n"
   ]
  },
  {
   "cell_type": "code",
   "execution_count": null,
   "metadata": {
    "collapsed": true
   },
   "outputs": [],
   "source": []
  }
 ],
 "metadata": {
  "celltoolbar": "Edit Metadata",
  "kernelspec": {
   "display_name": "Python 3",
   "language": "python",
   "name": "python3"
  },
  "language_info": {
   "codemirror_mode": {
    "name": "ipython",
    "version": 3
   },
   "file_extension": ".py",
   "mimetype": "text/x-python",
   "name": "python",
   "nbconvert_exporter": "python",
   "pygments_lexer": "ipython3",
   "version": "3.6.0"
  }
 },
 "nbformat": 4,
 "nbformat_minor": 2
}
